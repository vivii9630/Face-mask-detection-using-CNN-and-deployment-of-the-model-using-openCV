{
 "cells": [
  {
   "cell_type": "code",
   "execution_count": 1,
   "metadata": {},
   "outputs": [
    {
     "name": "stdout",
     "output_type": "stream",
     "text": [
      "{'with mask': 0, 'without mask': 1}\n",
      "['with mask', 'without mask']\n",
      "[0, 1]\n"
     ]
    }
   ],
   "source": [
    "import cv2,os\n",
    "\n",
    "data_path = \"D:/U_oF_Calgary/Fall_2020/SENG-697/Mask_detect/dataset\"\n",
    "categories=os.listdir(data_path)\n",
    "labels=[i for i in range(len(categories))]\n",
    "\n",
    "label_dict=dict(zip(categories,labels)) #empty dictionary\n",
    "\n",
    "\n",
    "print(label_dict)\n",
    "print(categories)\n",
    "print(labels)"
   ]
  },
  {
   "cell_type": "code",
   "execution_count": 2,
   "metadata": {},
   "outputs": [],
   "source": [
    "img_size=100\n",
    "data=[]\n",
    "target=[]\n",
    "\n",
    "\n",
    "for category in categories:\n",
    "    folder_path=os.path.join(data_path,category)\n",
    "    img_names=os.listdir(folder_path)\n",
    "        \n",
    "    for img_name in img_names:\n",
    "        img_path=os.path.join(folder_path,img_name)\n",
    "        img=cv2.imread(img_path)\n",
    "\n",
    "        try:\n",
    "            gray=cv2.cvtColor(img,cv2.COLOR_BGR2GRAY)           \n",
    "            #Coverting the image into gray scale\n",
    "            resized=cv2.resize(gray,(img_size,img_size))\n",
    "            #resizing the gray scale into 50x50, since we need a fixed common size for all the images in the dataset\n",
    "            data.append(resized)\n",
    "            target.append(label_dict[category])\n",
    "            #appending the image and the label(categorized) into the list (dataset)\n",
    "\n",
    "        except Exception as e:\n",
    "            print('Exception:',e)"
   ]
  },
  {
   "cell_type": "code",
   "execution_count": 3,
   "metadata": {},
   "outputs": [
    {
     "name": "stderr",
     "output_type": "stream",
     "text": [
      "Using TensorFlow backend.\n"
     ]
    }
   ],
   "source": [
    "import numpy as np\n",
    "\n",
    "data=np.array(data)/255.0\n",
    "data=np.reshape(data,(data.shape[0],img_size,img_size,1))\n",
    "target=np.array(target)\n",
    "\n",
    "from keras.utils import np_utils\n",
    "\n",
    "new_target=np_utils.to_categorical(target)"
   ]
  },
  {
   "cell_type": "code",
   "execution_count": 4,
   "metadata": {},
   "outputs": [],
   "source": [
    "np.save('data',data)\n",
    "np.save('target',new_target)"
   ]
  },
  {
   "cell_type": "code",
   "execution_count": 5,
   "metadata": {},
   "outputs": [],
   "source": [
    "#trainingdataset\n",
    "import numpy as np\n",
    "\n",
    "data=np.load('data.npy')\n",
    "target=np.load('target.npy')"
   ]
  },
  {
   "cell_type": "code",
   "execution_count": 6,
   "metadata": {},
   "outputs": [],
   "source": [
    "from sklearn.model_selection import train_test_split\n",
    "\n",
    "\n",
    "#from sklearn.model_selection import train_test_split\n",
    "(train_data,test_data,train_target,test_target)=train_test_split(data,target,test_size=0.1,random_state=42)"
   ]
  },
  {
   "cell_type": "code",
   "execution_count": 9,
   "metadata": {},
   "outputs": [],
   "source": [
    "from tensorflow.keras.models import Sequential\n",
    "from tensorflow.keras.layers import Dense,Activation,Flatten,Dropout\n",
    "from tensorflow.keras.layers import Conv2D,MaxPooling2D\n",
    "from tensorflow.keras.callbacks import ModelCheckpoint\n",
    "\n",
    "\n",
    "model=Sequential()\n",
    "\n",
    "model.add(Conv2D(50,(3,3),input_shape=data.shape[1:]))\n",
    "model.add(Activation('relu'))\n",
    "model.add(MaxPooling2D(pool_size=(2,2)))\n",
    "#The first CNN layer followed by Relu and MaxPooling layers\n",
    "\n",
    "model.add(Conv2D(100,(3,3)))\n",
    "model.add(Activation('relu'))\n",
    "model.add(MaxPooling2D(pool_size=(2,2)))\n",
    "#The second convolution layer followed by Relu and MaxPooling layers\n",
    "\n",
    "\n",
    "\n",
    "model.add(Flatten())\n",
    "model.add(Dropout(0.5))\n",
    "#Flatten layer to stack the output convolutions from second convolution layer\n",
    "model.add(Dense(50,activation='relu'))\n",
    "#Dense layer of 64 neurons\n",
    "model.add(Dense(2,activation='softmax'))\n",
    "#The Final layer with two outputs for two categories\n",
    "\n",
    "model.compile(loss='categorical_crossentropy',optimizer='adam',metrics=['accuracy'])\n"
   ]
  },
  {
   "cell_type": "code",
   "execution_count": 10,
   "metadata": {},
   "outputs": [
    {
     "name": "stdout",
     "output_type": "stream",
     "text": [
      "Epoch 1/20\n",
      "31/31 [==============================] - ETA: 0s - loss: 0.6909 - accuracy: 0.6212WARNING:tensorflow:From C:\\Users\\Vivek\\anaconda3\\lib\\site-packages\\tensorflow\\python\\training\\tracking\\tracking.py:111: Model.state_updates (from tensorflow.python.keras.engine.training) is deprecated and will be removed in a future version.\n",
      "Instructions for updating:\n",
      "This property should not be used in TensorFlow 2.0, as updates are applied automatically.\n",
      "WARNING:tensorflow:From C:\\Users\\Vivek\\anaconda3\\lib\\site-packages\\tensorflow\\python\\training\\tracking\\tracking.py:111: Layer.updates (from tensorflow.python.keras.engine.base_layer) is deprecated and will be removed in a future version.\n",
      "Instructions for updating:\n",
      "This property should not be used in TensorFlow 2.0, as updates are applied automatically.\n",
      "INFO:tensorflow:Assets written to: model-001.model\\assets\n",
      "31/31 [==============================] - 22s 700ms/step - loss: 0.6909 - accuracy: 0.6212 - val_loss: 0.6407 - val_accuracy: 0.5444\n",
      "Epoch 2/20\n",
      "31/31 [==============================] - ETA: 0s - loss: 0.4400 - accuracy: 0.8101INFO:tensorflow:Assets written to: model-002.model\\assets\n",
      "31/31 [==============================] - 21s 681ms/step - loss: 0.4400 - accuracy: 0.8101 - val_loss: 0.3621 - val_accuracy: 0.8589\n",
      "Epoch 3/20\n",
      "31/31 [==============================] - ETA: 0s - loss: 0.2572 - accuracy: 0.9020INFO:tensorflow:Assets written to: model-003.model\\assets\n",
      "31/31 [==============================] - 21s 672ms/step - loss: 0.2572 - accuracy: 0.9020 - val_loss: 0.2660 - val_accuracy: 0.8952\n",
      "Epoch 4/20\n",
      "31/31 [==============================] - ETA: 0s - loss: 0.1700 - accuracy: 0.9394INFO:tensorflow:Assets written to: model-004.model\\assets\n",
      "31/31 [==============================] - 22s 704ms/step - loss: 0.1700 - accuracy: 0.9394 - val_loss: 0.1725 - val_accuracy: 0.9516\n",
      "Epoch 5/20\n",
      "31/31 [==============================] - ETA: 0s - loss: 0.1231 - accuracy: 0.9556INFO:tensorflow:Assets written to: model-005.model\\assets\n",
      "31/31 [==============================] - 23s 736ms/step - loss: 0.1231 - accuracy: 0.9556 - val_loss: 0.1523 - val_accuracy: 0.9476\n",
      "Epoch 6/20\n",
      "31/31 [==============================] - 17s 537ms/step - loss: 0.1167 - accuracy: 0.9566 - val_loss: 0.1655 - val_accuracy: 0.9516\n",
      "Epoch 7/20\n",
      "31/31 [==============================] - 17s 538ms/step - loss: 0.0988 - accuracy: 0.9697 - val_loss: 0.1908 - val_accuracy: 0.9274\n",
      "Epoch 8/20\n",
      "31/31 [==============================] - 17s 539ms/step - loss: 0.0623 - accuracy: 0.9798 - val_loss: 0.1564 - val_accuracy: 0.9395\n",
      "Epoch 9/20\n",
      "31/31 [==============================] - 17s 540ms/step - loss: 0.0374 - accuracy: 0.9889 - val_loss: 0.1536 - val_accuracy: 0.9556\n",
      "Epoch 10/20\n",
      "31/31 [==============================] - 17s 540ms/step - loss: 0.0249 - accuracy: 0.9919 - val_loss: 0.1563 - val_accuracy: 0.9476\n",
      "Epoch 11/20\n",
      "31/31 [==============================] - 17s 535ms/step - loss: 0.0446 - accuracy: 0.9838 - val_loss: 0.1787 - val_accuracy: 0.9315\n",
      "Epoch 12/20\n",
      "31/31 [==============================] - 17s 539ms/step - loss: 0.0302 - accuracy: 0.9929 - val_loss: 0.1541 - val_accuracy: 0.9556\n",
      "Epoch 13/20\n",
      "31/31 [==============================] - 17s 548ms/step - loss: 0.0166 - accuracy: 0.9960 - val_loss: 0.1835 - val_accuracy: 0.9355\n",
      "Epoch 14/20\n",
      "31/31 [==============================] - 17s 551ms/step - loss: 0.0218 - accuracy: 0.9909 - val_loss: 0.2271 - val_accuracy: 0.9234\n",
      "Epoch 15/20\n",
      "31/31 [==============================] - 19s 606ms/step - loss: 0.0083 - accuracy: 0.9990 - val_loss: 0.1716 - val_accuracy: 0.9556\n",
      "Epoch 16/20\n",
      "31/31 [==============================] - 19s 606ms/step - loss: 0.0129 - accuracy: 0.9949 - val_loss: 0.2132 - val_accuracy: 0.9355\n",
      "Epoch 17/20\n",
      "31/31 [==============================] - 20s 633ms/step - loss: 0.0238 - accuracy: 0.9939 - val_loss: 0.3012 - val_accuracy: 0.9234\n",
      "Epoch 18/20\n",
      "31/31 [==============================] - 17s 537ms/step - loss: 0.0228 - accuracy: 0.9909 - val_loss: 0.2018 - val_accuracy: 0.9476\n",
      "Epoch 19/20\n",
      "31/31 [==============================] - 17s 541ms/step - loss: 0.0148 - accuracy: 0.9949 - val_loss: 0.2245 - val_accuracy: 0.9274\n",
      "Epoch 20/20\n",
      "31/31 [==============================] - 17s 551ms/step - loss: 0.0189 - accuracy: 0.9909 - val_loss: 0.2074 - val_accuracy: 0.9516\n"
     ]
    }
   ],
   "source": [
    "checkpoint = ModelCheckpoint('model-{epoch:03d}.model',monitor='val_loss',verbose=0,save_best_only=True,mode='min')\n",
    "history=model.fit(train_data,train_target,epochs=20,callbacks=[checkpoint],validation_split=0.2)"
   ]
  },
  {
   "cell_type": "code",
   "execution_count": 11,
   "metadata": {},
   "outputs": [
    {
     "data": {
      "image/png": "[encoded data removed]",
      "text/plain": [
       "<Figure size 432x288 with 1 Axes>"
      ]
     },
     "metadata": {
      "needs_background": "light"
     },
     "output_type": "display_data"
    }
   ],
   "source": [
    "from matplotlib import pyplot as plt\n",
    "\n",
    "plt.plot(history.history['loss'],'r',label='training loss')\n",
    "plt.plot(history.history['val_loss'],label='validation loss')\n",
    "plt.xlabel('# epochs')\n",
    "plt.ylabel('loss')\n",
    "plt.legend()\n",
    "plt.show()"
   ]
  },
  {
   "cell_type": "code",
   "execution_count": 12,
   "metadata": {},
   "outputs": [
    {
     "data": {
      "image/png": "[encoded data removed]",
      "text/plain": [
       "<Figure size 432x288 with 1 Axes>"
      ]
     },
     "metadata": {
      "needs_background": "light"
     },
     "output_type": "display_data"
    }
   ],
   "source": [
    "\n",
    "plt.plot(history.history['accuracy'],'r',label='training accuracy')\n",
    "plt.plot(history.history['val_accuracy'],label='validation accuracy')\n",
    "plt.xlabel('# epochs')\n",
    "plt.ylabel('loss')\n",
    "plt.legend()\n",
    "plt.show()"
   ]
  },
  {
   "cell_type": "code",
   "execution_count": 14,
   "metadata": {},
   "outputs": [
    {
     "name": "stdout",
     "output_type": "stream",
     "text": [
      "5/5 [==============================] - 0s 97ms/step - loss: 0.2831 - accuracy: 0.9493\n",
      "[0.2830941081047058, 0.9492753744125366]\n"
     ]
    }
   ],
   "source": [
    "\n",
    "print(model.evaluate(test_data,test_target))"
   ]
  },
  {
   "cell_type": "code",
   "execution_count": null,
   "metadata": {},
   "outputs": [],
   "source": [
    "import cv2,os\n",
    "from tensorflow.keras.models import load_model\n",
    "import cv2\n",
    "import numpy as np\n",
    "import sys\n",
    "model = load_model('model-011.model')\n",
    "#cascPath = sys.argv[1]\n",
    "face_clsfr=cv2.CascadeClassifier(cv2.data.haarcascades + 'haarcascade_frontalface_default.xml')\n",
    "\n",
    "source=cv2.VideoCapture(0)\n",
    "\n",
    "\n",
    "labels_dict={0:'SAFE MASK FOOUND',1:'MASK NOT FOUND'}\n",
    "color_dict={0:(0,255,0),1:(0,0,255)}\n",
    "\n",
    "while(True):\n",
    "    ret,img=source.read()\n",
    "    gray=cv2.cvtColor(img,cv2.COLOR_BGR2GRAY)\n",
    "    faces=face_clsfr.detectMultiScale(gray,1.3,5)  \n",
    "\n",
    "    for (x,y,w,h) in faces:\n",
    "    \n",
    "        face_img=gray[y:y+w,x:x+w]\n",
    "        resized=cv2.resize(face_img,(100,100))\n",
    "        normalized=resized/255.0\n",
    "        reshaped=np.reshape(normalized,(1,100,100,1))\n",
    "        result=model.predict(reshaped)\n",
    "\n",
    "        label=np.argmax(result,axis=1)[0]\n",
    "      \n",
    "        cv2.rectangle(img,(x,y),(x+w,y+h),color_dict[label],2)\n",
    "        cv2.rectangle(img,(x,y-40),(x+w,y),color_dict[label],-1)\n",
    "        cv2.putText(img, labels_dict[label], (x, y-10),cv2.FONT_HERSHEY_SIMPLEX,0.8,(255,255,255),2)\n",
    "        \n",
    "        \n",
    "    cv2.imshow('LIVE',img)\n",
    "    key=cv2.waitKey(1)\n",
    "    \n",
    "    if(key==27):\n",
    "        break\n",
    "        \n",
    "cv2.destroyAllWindows()\n",
    "source.release()"
   ]
  },
  {
   "cell_type": "code",
   "execution_count": null,
   "metadata": {},
   "outputs": [],
   "source": []
  }
 ],
 "metadata": {
  "kernelspec": {
   "display_name": "Python 3",
   "language": "python",
   "name": "python3"
  },
  "language_info": {
   "codemirror_mode": {
    "name": "ipython",
    "version": 3
   },
   "file_extension": ".py",
   "mimetype": "text/x-python",
   "name": "python",
   "nbconvert_exporter": "python",
   "pygments_lexer": "ipython3",
   "version": "3.7.6"
  }
 },
 "nbformat": 4,
 "nbformat_minor": 4
}
