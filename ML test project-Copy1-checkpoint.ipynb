{
 "cells": [
  {
   "cell_type": "code",
   "execution_count": 11,
   "metadata": {},
   "outputs": [
    {
     "name": "stdout",
     "output_type": "stream",
     "text": [
      "{'with mask': 0, 'without mask': 1}\n",
      "['with mask', 'without mask']\n",
      "[0, 1]\n"
     ]
    }
   ],
   "source": [
    "import cv2,os\n",
    "\n",
    "data_path= 'D:/U_oF_Calgary/Fall_2020/SENG-697/Mask_detect/dataset'\n",
    "categories=os.listdir(data_path)\n",
    "labels=[i for i in range(len(categories))]\n",
    "\n",
    "label_dict=dict(zip(categories,labels)) #empty dictionary\n",
    "\n",
    "\n",
    "print(label_dict)\n",
    "print(categories)\n",
    "print(labels)"
   ]
  },
  {
   "cell_type": "code",
   "execution_count": 12,
   "metadata": {},
   "outputs": [],
   "source": [
    "img_size=100\n",
    "data=[]\n",
    "target=[]\n",
    "\n",
    "\n",
    "for category in categories:\n",
    "    folder_path=os.path.join(data_path,category)\n",
    "    img_names=os.listdir(folder_path)\n",
    "        \n",
    "    for img_name in img_names:\n",
    "        img_path=os.path.join(folder_path,img_name)\n",
    "        img=cv2.imread(img_path)\n",
    "\n",
    "        try:\n",
    "            gray=cv2.cvtColor(img,cv2.COLOR_BGR2GRAY)           \n",
    "            #Coverting the image into gray scale\n",
    "            resized=cv2.resize(gray,(img_size,img_size))\n",
    "            #resizing the gray scale into 50x50, since we need a fixed common size for all the images in the dataset\n",
    "            data.append(resized)\n",
    "            target.append(label_dict[category])\n",
    "            #appending the image and the label(categorized) into the list (dataset)\n",
    "\n",
    "        except Exception as e:\n",
    "            print('Exception:',e)"
   ]
  },
  {
   "cell_type": "code",
   "execution_count": 13,
   "metadata": {},
   "outputs": [],
   "source": [
    "import numpy as np\n",
    "\n",
    "data=np.array(data)/255.0\n",
    "data=np.reshape(data,(data.shape[0],img_size,img_size,1))\n",
    "target=np.array(target)\n",
    "\n",
    "from keras.utils import np_utils\n",
    "\n",
    "new_target=np_utils.to_categorical(target)"
   ]
  },
  {
   "cell_type": "code",
   "execution_count": 14,
   "metadata": {},
   "outputs": [],
   "source": [
    "np.save('data',data)\n",
    "np.save('target',new_target)"
   ]
  },
  {
   "cell_type": "code",
   "execution_count": 15,
   "metadata": {},
   "outputs": [],
   "source": [
    "#trainingdataset\n",
    "import numpy as np\n",
    "\n",
    "data=np.load('data.npy')\n",
    "target=np.load('target.npy')"
   ]
  },
  {
   "cell_type": "code",
   "execution_count": 16,
   "metadata": {},
   "outputs": [],
   "source": [
    "from sklearn.model_selection import train_test_split\n",
    "\n",
    "\n",
    "#from sklearn.model_selection import train_test_split\n",
    "(train_data,test_data,train_target,test_target)=train_test_split(data,target,test_size=0.1,random_state=42)"
   ]
  },
  {
   "cell_type": "code",
   "execution_count": 17,
   "metadata": {},
   "outputs": [],
   "source": [
    "from tensorflow.keras.models import Sequential\n",
    "from tensorflow.keras.layers import Dense,Activation,Flatten,Dropout\n",
    "from tensorflow.keras.layers import Conv2D,MaxPooling2D\n",
    "from tensorflow.keras.callbacks import ModelCheckpoint\n",
    "\n",
    "\n",
    "model=Sequential()\n",
    "\n",
    "model.add(Conv2D(200,(3,3),input_shape=data.shape[1:]))\n",
    "model.add(Activation('relu'))\n",
    "model.add(MaxPooling2D(pool_size=(2,2)))\n",
    "#The first CNN layer followed by Relu and MaxPooling layers\n",
    "\n",
    "model.add(Conv2D(100,(3,3)))\n",
    "model.add(Activation('relu'))\n",
    "model.add(MaxPooling2D(pool_size=(2,2)))\n",
    "#The second convolution layer followed by Relu and MaxPooling layers\n",
    "\n",
    "model.add(Flatten())\n",
    "model.add(Dropout(0.5))\n",
    "#Flatten layer to stack the output convolutions from second convolution layer\n",
    "model.add(Dense(50,activation='relu'))\n",
    "#Dense layer of 64 neurons\n",
    "model.add(Dense(2,activation='softmax'))\n",
    "#The Final layer with two outputs for two categories\n",
    "\n",
    "model.compile(loss='categorical_crossentropy',optimizer='adam',metrics=['accuracy'])\n"
   ]
  },
  {
   "cell_type": "code",
   "execution_count": 18,
   "metadata": {},
   "outputs": [
    {
     "name": "stdout",
     "output_type": "stream",
     "text": [
      "Epoch 1/20\n",
      "31/31 [==============================] - ETA: 0s - loss: 0.7517 - accuracy: 0.5343WARNING:tensorflow:From C:\\Users\\Vivek\\anaconda3\\envs\\maskdetect\\lib\\site-packages\\tensorflow\\python\\training\\tracking\\tracking.py:111: Model.state_updates (from tensorflow.python.keras.engine.training) is deprecated and will be removed in a future version.\n",
      "Instructions for updating:\n",
      "This property should not be used in TensorFlow 2.0, as updates are applied automatically.\n",
      "WARNING:tensorflow:From C:\\Users\\Vivek\\anaconda3\\envs\\maskdetect\\lib\\site-packages\\tensorflow\\python\\training\\tracking\\tracking.py:111: Layer.updates (from tensorflow.python.keras.engine.base_layer) is deprecated and will be removed in a future version.\n",
      "Instructions for updating:\n",
      "This property should not be used in TensorFlow 2.0, as updates are applied automatically.\n",
      "INFO:tensorflow:Assets written to: model-001.model\\assets\n",
      "31/31 [==============================] - 21s 672ms/step - loss: 0.7517 - accuracy: 0.5343 - val_loss: 0.6920 - val_accuracy: 0.5282\n",
      "Epoch 2/20\n",
      "31/31 [==============================] - ETA: 0s - loss: 0.6916 - accuracy: 0.5141INFO:tensorflow:Assets written to: model-002.model\\assets\n",
      "31/31 [==============================] - 21s 674ms/step - loss: 0.6916 - accuracy: 0.5141 - val_loss: 0.6902 - val_accuracy: 0.4718\n",
      "Epoch 3/20\n",
      "31/31 [==============================] - ETA: 0s - loss: 0.5761 - accuracy: 0.6939INFO:tensorflow:Assets written to: model-003.model\\assets\n",
      "31/31 [==============================] - 22s 722ms/step - loss: 0.5761 - accuracy: 0.6939 - val_loss: 0.4633 - val_accuracy: 0.7702\n",
      "Epoch 4/20\n",
      "31/31 [==============================] - ETA: 0s - loss: 0.3581 - accuracy: 0.8566INFO:tensorflow:Assets written to: model-004.model\\assets\n",
      "31/31 [==============================] - 23s 742ms/step - loss: 0.3581 - accuracy: 0.8566 - val_loss: 0.3662 - val_accuracy: 0.8508\n",
      "Epoch 5/20\n",
      "31/31 [==============================] - ETA: 0s - loss: 0.2720 - accuracy: 0.8919INFO:tensorflow:Assets written to: model-005.model\\assets\n",
      "31/31 [==============================] - 23s 727ms/step - loss: 0.2720 - accuracy: 0.8919 - val_loss: 0.3600 - val_accuracy: 0.8266\n",
      "Epoch 6/20\n",
      "31/31 [==============================] - ETA: 0s - loss: 0.2428 - accuracy: 0.9131INFO:tensorflow:Assets written to: model-006.model\\assets\n",
      "31/31 [==============================] - 22s 722ms/step - loss: 0.2428 - accuracy: 0.9131 - val_loss: 0.2433 - val_accuracy: 0.8952\n",
      "Epoch 7/20\n",
      "31/31 [==============================] - ETA: 0s - loss: 0.1719 - accuracy: 0.9414INFO:tensorflow:Assets written to: model-007.model\\assets\n",
      "31/31 [==============================] - 23s 739ms/step - loss: 0.1719 - accuracy: 0.9414 - val_loss: 0.2229 - val_accuracy: 0.9032\n",
      "Epoch 8/20\n",
      "31/31 [==============================] - 22s 700ms/step - loss: 0.1381 - accuracy: 0.9475 - val_loss: 0.2754 - val_accuracy: 0.8589\n",
      "Epoch 9/20\n",
      "31/31 [==============================] - 22s 709ms/step - loss: 0.1243 - accuracy: 0.9505 - val_loss: 0.2337 - val_accuracy: 0.8952\n",
      "Epoch 10/20\n",
      "31/31 [==============================] - ETA: 0s - loss: 0.0920 - accuracy: 0.9707INFO:tensorflow:Assets written to: model-010.model\\assets\n",
      "31/31 [==============================] - 24s 773ms/step - loss: 0.0920 - accuracy: 0.9707 - val_loss: 0.1684 - val_accuracy: 0.9315\n",
      "Epoch 11/20\n",
      "31/31 [==============================] - 22s 711ms/step - loss: 0.0691 - accuracy: 0.9768 - val_loss: 0.1978 - val_accuracy: 0.9516\n",
      "Epoch 12/20\n",
      "31/31 [==============================] - ETA: 0s - loss: 0.0663 - accuracy: 0.9737INFO:tensorflow:Assets written to: model-012.model\\assets\n",
      "31/31 [==============================] - 23s 754ms/step - loss: 0.0663 - accuracy: 0.9737 - val_loss: 0.1492 - val_accuracy: 0.9677\n",
      "Epoch 13/20\n",
      "31/31 [==============================] - 22s 725ms/step - loss: 0.0755 - accuracy: 0.9737 - val_loss: 0.1997 - val_accuracy: 0.9556\n",
      "Epoch 14/20\n",
      "31/31 [==============================] - 23s 755ms/step - loss: 0.0659 - accuracy: 0.9778 - val_loss: 0.1833 - val_accuracy: 0.9637\n",
      "Epoch 15/20\n",
      "31/31 [==============================] - 24s 766ms/step - loss: 0.0493 - accuracy: 0.9828 - val_loss: 0.1571 - val_accuracy: 0.9597\n",
      "Epoch 16/20\n",
      "31/31 [==============================] - 22s 714ms/step - loss: 0.0297 - accuracy: 0.9939 - val_loss: 0.1554 - val_accuracy: 0.9516\n",
      "Epoch 17/20\n",
      "31/31 [==============================] - 22s 722ms/step - loss: 0.0475 - accuracy: 0.9798 - val_loss: 0.1870 - val_accuracy: 0.9637\n",
      "Epoch 18/20\n",
      "31/31 [==============================] - 23s 740ms/step - loss: 0.0487 - accuracy: 0.9859 - val_loss: 0.1947 - val_accuracy: 0.9234\n",
      "Epoch 19/20\n",
      "31/31 [==============================] - ETA: 0s - loss: 0.0561 - accuracy: 0.9808INFO:tensorflow:Assets written to: model-019.model\\assets\n",
      "31/31 [==============================] - 24s 765ms/step - loss: 0.0561 - accuracy: 0.9808 - val_loss: 0.1384 - val_accuracy: 0.9637\n",
      "Epoch 20/20\n",
      "31/31 [==============================] - 23s 739ms/step - loss: 0.0250 - accuracy: 0.9909 - val_loss: 0.1607 - val_accuracy: 0.9395\n"
     ]
    }
   ],
   "source": [
    "checkpoint = ModelCheckpoint('model-{epoch:03d}.model',monitor='val_loss',verbose=0,save_best_only=True,mode='auto')\n",
    "history=model.fit(train_data,train_target,epochs=20,callbacks=[checkpoint],validation_split=0.2)"
   ]
  },
  {
   "cell_type": "code",
   "execution_count": 10,
   "metadata": {},
   "outputs": [
    {
     "ename": "NameError",
     "evalue": "name 'history' is not defined",
     "output_type": "error",
     "traceback": [
      "\u001b[1;31m---------------------------------------------------------------------------\u001b[0m",
      "\u001b[1;31mNameError\u001b[0m                                 Traceback (most recent call last)",
      "\u001b[1;32m<ipython-input-10-5d92076fe24c>\u001b[0m in \u001b[0;36m<module>\u001b[1;34m\u001b[0m\n\u001b[0;32m      1\u001b[0m \u001b[1;32mfrom\u001b[0m \u001b[0mmatplotlib\u001b[0m \u001b[1;32mimport\u001b[0m \u001b[0mpyplot\u001b[0m \u001b[1;32mas\u001b[0m \u001b[0mplt\u001b[0m\u001b[1;33m\u001b[0m\u001b[1;33m\u001b[0m\u001b[0m\n\u001b[0;32m      2\u001b[0m \u001b[1;33m\u001b[0m\u001b[0m\n\u001b[1;32m----> 3\u001b[1;33m \u001b[0mplt\u001b[0m\u001b[1;33m.\u001b[0m\u001b[0mplot\u001b[0m\u001b[1;33m(\u001b[0m\u001b[0mhistory\u001b[0m\u001b[1;33m.\u001b[0m\u001b[0mhistory\u001b[0m\u001b[1;33m[\u001b[0m\u001b[1;34m'loss'\u001b[0m\u001b[1;33m]\u001b[0m\u001b[1;33m,\u001b[0m\u001b[1;34m'r'\u001b[0m\u001b[1;33m,\u001b[0m\u001b[0mlabel\u001b[0m\u001b[1;33m=\u001b[0m\u001b[1;34m'training loss'\u001b[0m\u001b[1;33m)\u001b[0m\u001b[1;33m\u001b[0m\u001b[1;33m\u001b[0m\u001b[0m\n\u001b[0m\u001b[0;32m      4\u001b[0m \u001b[0mplt\u001b[0m\u001b[1;33m.\u001b[0m\u001b[0mplot\u001b[0m\u001b[1;33m(\u001b[0m\u001b[0mhistory\u001b[0m\u001b[1;33m.\u001b[0m\u001b[0mhistory\u001b[0m\u001b[1;33m[\u001b[0m\u001b[1;34m'val_loss'\u001b[0m\u001b[1;33m]\u001b[0m\u001b[1;33m,\u001b[0m\u001b[0mlabel\u001b[0m\u001b[1;33m=\u001b[0m\u001b[1;34m'validation loss'\u001b[0m\u001b[1;33m)\u001b[0m\u001b[1;33m\u001b[0m\u001b[1;33m\u001b[0m\u001b[0m\n\u001b[0;32m      5\u001b[0m \u001b[0mplt\u001b[0m\u001b[1;33m.\u001b[0m\u001b[0mxlabel\u001b[0m\u001b[1;33m(\u001b[0m\u001b[1;34m'# epochs'\u001b[0m\u001b[1;33m)\u001b[0m\u001b[1;33m\u001b[0m\u001b[1;33m\u001b[0m\u001b[0m\n",
      "\u001b[1;31mNameError\u001b[0m: name 'history' is not defined"
     ]
    }
   ],
   "source": [
    "from matplotlib import pyplot as plt\n",
    "\n",
    "plt.plot(history.history['loss'],'r',label='training loss')\n",
    "plt.plot(history.history['val_loss'],label='validation loss')\n",
    "plt.xlabel('# epochs')\n",
    "plt.ylabel('loss')\n",
    "plt.legend()\n",
    "plt.show()"
   ]
  },
  {
   "cell_type": "code",
   "execution_count": null,
   "metadata": {},
   "outputs": [],
   "source": [
    "\n",
    "plt.plot(history.history['accuracy'],'r',label='training accuracy')\n",
    "plt.plot(history.history['val_accuracy'],label='validation accuracy')\n",
    "plt.xlabel('# epochs')\n",
    "plt.ylabel('loss')\n",
    "plt.legend()\n",
    "plt.show()"
   ]
  },
  {
   "cell_type": "code",
   "execution_count": null,
   "metadata": {},
   "outputs": [],
   "source": [
    "\n",
    "print(model.evaluate(test_data,test_target))"
   ]
  }
 ],
 "metadata": {
  "kernelspec": {
   "display_name": "Python 3",
   "language": "python",
   "name": "python3"
  },
  "language_info": {
   "codemirror_mode": {
    "name": "ipython",
    "version": 3
   },
   "file_extension": ".py",
   "mimetype": "text/x-python",
   "name": "python",
   "nbconvert_exporter": "python",
   "pygments_lexer": "ipython3",
   "version": "3.8.5"
  }
 },
 "nbformat": 4,
 "nbformat_minor": 4
}
